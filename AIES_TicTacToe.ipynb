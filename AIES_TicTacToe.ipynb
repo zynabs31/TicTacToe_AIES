{
 "cells": [
  {
   "cell_type": "code",
   "execution_count": 1,
   "id": "9e3e35f7-78a9-499d-a745-1e2c055510a1",
   "metadata": {},
   "outputs": [],
   "source": [
    "import time\n",
    "\n",
    "class TicTacToe:\n",
    "    def __init__(self):\n",
    "        self.board = [' ' for _ in range(9)]\n",
    "\n",
    "    def print_board(self):\n",
    "        print()\n",
    "        for row in [self.board[i*3:(i+1)*3] for i in range(3)]:\n",
    "            print('| ' + ' | '.join(row) + ' |')\n",
    "        print()\n",
    "\n",
    "    def make_move(self, position, player):\n",
    "        if self.board[position] == ' ':\n",
    "            self.board[position] = player\n",
    "            return True\n",
    "        return False\n",
    "\n",
    "    def undo_move(self, position):\n",
    "        self.board[position] = ' '\n",
    "\n",
    "    def available_moves(self):\n",
    "        return [i for i in range(9) if self.board[i] == ' ']\n",
    "\n",
    "    def check_winner(self, player):\n",
    "        win_conditions = [\n",
    "            [0,1,2], [3,4,5], [6,7,8],  # rows\n",
    "            [0,3,6], [1,4,7], [2,5,8],  # columns\n",
    "            [0,4,8], [2,4,6]            # diagonals\n",
    "        ]\n",
    "        for condition in win_conditions:\n",
    "            if all(self.board[i] == player for i in condition):\n",
    "                return True\n",
    "        return False\n",
    "\n",
    "    def is_draw(self):\n",
    "        return ' ' not in self.board\n",
    "\n",
    "    ### Basic Minimax ###\n",
    "    def minimax(self, is_maximizing):\n",
    "        if self.check_winner('X'):\n",
    "            return 1\n",
    "        if self.check_winner('O'):\n",
    "            return -1\n",
    "        if self.is_draw():\n",
    "            return 0\n",
    "\n",
    "        if is_maximizing:\n",
    "            best_score = -float('inf')\n",
    "            for move in self.available_moves():\n",
    "                self.make_move(move, 'X')\n",
    "                score = self.minimax(False)\n",
    "                self.undo_move(move)\n",
    "                best_score = max(score, best_score)\n",
    "            return best_score\n",
    "        else:\n",
    "            best_score = float('inf')\n",
    "            for move in self.available_moves():\n",
    "                self.make_move(move, 'O')\n",
    "                score = self.minimax(True)\n",
    "                self.undo_move(move)\n",
    "                best_score = min(score, best_score)\n",
    "            return best_score\n",
    "\n",
    "    def get_ai_move_minimax(self):\n",
    "        best_score = -float('inf')\n",
    "        best_move = None\n",
    "        for move in self.available_moves():\n",
    "            self.make_move(move, 'X')\n",
    "            score = self.minimax(False)\n",
    "            self.undo_move(move)\n",
    "            if score > best_score:\n",
    "                best_score = score\n",
    "                best_move = move\n",
    "        return best_move\n",
    "\n",
    "    ### Minimax with Alpha-Beta Pruning ###\n",
    "    def minimax_alpha_beta(self, is_maximizing, alpha, beta):\n",
    "        if self.check_winner('X'):\n",
    "            return 1\n",
    "        if self.check_winner('O'):\n",
    "            return -1\n",
    "        if self.is_draw():\n",
    "            return 0\n",
    "\n",
    "        if is_maximizing:\n",
    "            best_score = -float('inf')\n",
    "            for move in self.available_moves():\n",
    "                self.make_move(move, 'X')\n",
    "                score = self.minimax_alpha_beta(False, alpha, beta)\n",
    "                self.undo_move(move)\n",
    "                best_score = max(score, best_score)\n",
    "                alpha = max(alpha, best_score)\n",
    "                if beta <= alpha:\n",
    "                    break\n",
    "            return best_score\n",
    "        else:\n",
    "            best_score = float('inf')\n",
    "            for move in self.available_moves():\n",
    "                self.make_move(move, 'O')\n",
    "                score = self.minimax_alpha_beta(True, alpha, beta)\n",
    "                self.undo_move(move)\n",
    "                best_score = min(score, best_score)\n",
    "                beta = min(beta, best_score)\n",
    "                if beta <= alpha:\n",
    "                    break\n",
    "            return best_score\n",
    "\n",
    "    def get_ai_move_alpha_beta(self):\n",
    "        best_score = -float('inf')\n",
    "        best_move = None\n",
    "        alpha = -float('inf')\n",
    "        beta = float('inf')\n",
    "\n",
    "        for move in self.available_moves():\n",
    "            self.make_move(move, 'X')\n",
    "            score = self.minimax_alpha_beta(False, alpha, beta)\n",
    "            self.undo_move(move)\n",
    "            if score > best_score:\n",
    "                best_score = score\n",
    "                best_move = move\n",
    "        return best_move\n"
   ]
  },
  {
   "cell_type": "code",
   "execution_count": 13,
   "id": "2f2aa90a-0296-41fa-b9db-c6f39cce6586",
   "metadata": {},
   "outputs": [],
   "source": [
    "def play_game(ai_type='minimax'):\n",
    "    human_score = 0\n",
    "    ai_score = 0\n",
    "    draw_score = 0\n",
    "\n",
    "    while True:\n",
    "        game = TicTacToe()\n",
    "        human = 'O'\n",
    "        ai = 'X'\n",
    "        current_player = human\n",
    "\n",
    "        while True:\n",
    "            game.print_board()\n",
    "            if current_player == human:\n",
    "                move = int(input(\"Enter your move (0-8): \"))\n",
    "                if not game.make_move(move, human):\n",
    "                    print(\"Invalid move! Try again.\")\n",
    "                    continue\n",
    "            else:\n",
    "                print(f\"AI ({ai_type}) is thinking...\")\n",
    "                start = time.time()\n",
    "                if ai_type == 'minimax':\n",
    "                    move = game.get_ai_move_minimax()\n",
    "                else:\n",
    "                    move = game.get_ai_move_alpha_beta()\n",
    "                end = time.time()\n",
    "                game.make_move(move, ai)\n",
    "                print(f\"AI chose move {move} in {round(end - start, 4)} seconds.\")\n",
    "\n",
    "            if game.check_winner(current_player):\n",
    "                game.print_board()\n",
    "                if current_player == human:\n",
    "                    print(\"You win! 🎉\")\n",
    "                    human_score += 1\n",
    "                else:\n",
    "                    print(\"AI wins! 🤖\")\n",
    "                    ai_score += 1\n",
    "                break\n",
    "\n",
    "            if game.is_draw():\n",
    "                game.print_board()\n",
    "                print(\"It's a draw! 🤝\")\n",
    "                draw_score += 1\n",
    "                break\n",
    "\n",
    "            current_player = human if current_player == ai else ai\n",
    "\n",
    "        # After each game\n",
    "        print(\"\\nScoreboard:\")\n",
    "        print(f\"You: {human_score} | AI: {ai_score} | Draws: {draw_score}\")\n",
    "\n",
    "        choice = input(\"\\nDo you want to play again? (y/n): \").lower()\n",
    "        if choice != 'y':\n",
    "            print(\"\\nThanks for playing!\")\n",
    "            print(\"Final Score:\")\n",
    "            print(f\"You: {human_score} | AI: {ai_score} | Draws: {draw_score}\")\n",
    "            break\n",
    "\n",
    "    # After quitting, return to welcome menu\n",
    "    main_menu()\n",
    "        \n",
    "def compare_performance():\n",
    "    game = TicTacToe()\n",
    "\n",
    "    print(\"\\nTesting Minimax...\")\n",
    "    start = time.time()\n",
    "    game.get_ai_move_minimax()\n",
    "    end = time.time()\n",
    "    print(f\"Minimax Time: {round(end - start, 5)} seconds\")\n",
    "\n",
    "    game = TicTacToe()\n",
    "    print(\"\\nTesting Alpha-Beta Pruning...\")\n",
    "    start = time.time()\n",
    "    game.get_ai_move_alpha_beta()\n",
    "    end = time.time()\n",
    "    print(f\"Alpha-Beta Time: {round(end - start, 5)} seconds\\n\")\n"
   ]
  },
  {
   "cell_type": "code",
   "execution_count": 14,
   "id": "cb0ac1bf-4ec8-4cc1-99e8-efef207c065a",
   "metadata": {},
   "outputs": [
    {
     "name": "stdout",
     "output_type": "stream",
     "text": [
      "\n",
      "Welcome to Tic-Tac-Toe AI!\n",
      "1. Play against Minimax AI\n",
      "2. Play against Alpha-Beta Pruning AI\n",
      "3. Compare AI performance\n",
      "4. Exit\n"
     ]
    },
    {
     "name": "stdin",
     "output_type": "stream",
     "text": [
      "Enter your choice:  3\n"
     ]
    },
    {
     "name": "stdout",
     "output_type": "stream",
     "text": [
      "\n",
      "Testing Minimax...\n",
      "Minimax Time: 22.22279 seconds\n",
      "\n",
      "Testing Alpha-Beta Pruning...\n",
      "Alpha-Beta Time: 1.13805 seconds\n",
      "\n",
      "\n",
      "Welcome to Tic-Tac-Toe AI!\n",
      "1. Play against Minimax AI\n",
      "2. Play against Alpha-Beta Pruning AI\n",
      "3. Compare AI performance\n",
      "4. Exit\n"
     ]
    },
    {
     "name": "stdin",
     "output_type": "stream",
     "text": [
      "Enter your choice:  1\n"
     ]
    },
    {
     "name": "stdout",
     "output_type": "stream",
     "text": [
      "\n",
      "|   |   |   |\n",
      "|   |   |   |\n",
      "|   |   |   |\n",
      "\n"
     ]
    },
    {
     "name": "stdin",
     "output_type": "stream",
     "text": [
      "Enter your move (0-8):  4\n"
     ]
    },
    {
     "name": "stdout",
     "output_type": "stream",
     "text": [
      "\n",
      "|   |   |   |\n",
      "|   | O |   |\n",
      "|   |   |   |\n",
      "\n",
      "AI (minimax) is thinking...\n",
      "AI chose move 0 in 3.8023 seconds.\n",
      "\n",
      "| X |   |   |\n",
      "|   | O |   |\n",
      "|   |   |   |\n",
      "\n"
     ]
    },
    {
     "name": "stdin",
     "output_type": "stream",
     "text": [
      "Enter your move (0-8):  2\n"
     ]
    },
    {
     "name": "stdout",
     "output_type": "stream",
     "text": [
      "\n",
      "| X |   | O |\n",
      "|   | O |   |\n",
      "|   |   |   |\n",
      "\n",
      "AI (minimax) is thinking...\n",
      "AI chose move 6 in 0.0517 seconds.\n",
      "\n",
      "| X |   | O |\n",
      "|   | O |   |\n",
      "| X |   |   |\n",
      "\n"
     ]
    },
    {
     "name": "stdin",
     "output_type": "stream",
     "text": [
      "Enter your move (0-8):  3\n"
     ]
    },
    {
     "name": "stdout",
     "output_type": "stream",
     "text": [
      "\n",
      "| X |   | O |\n",
      "| O | O |   |\n",
      "| X |   |   |\n",
      "\n",
      "AI (minimax) is thinking...\n",
      "AI chose move 5 in 0.002 seconds.\n",
      "\n",
      "| X |   | O |\n",
      "| O | O | X |\n",
      "| X |   |   |\n",
      "\n"
     ]
    },
    {
     "name": "stdin",
     "output_type": "stream",
     "text": [
      "Enter your move (0-8):  7\n"
     ]
    },
    {
     "name": "stdout",
     "output_type": "stream",
     "text": [
      "\n",
      "| X |   | O |\n",
      "| O | O | X |\n",
      "| X | O |   |\n",
      "\n",
      "AI (minimax) is thinking...\n",
      "AI chose move 1 in 0.0 seconds.\n",
      "\n",
      "| X | X | O |\n",
      "| O | O | X |\n",
      "| X | O |   |\n",
      "\n"
     ]
    },
    {
     "name": "stdin",
     "output_type": "stream",
     "text": [
      "Enter your move (0-8):  8\n"
     ]
    },
    {
     "name": "stdout",
     "output_type": "stream",
     "text": [
      "\n",
      "| X | X | O |\n",
      "| O | O | X |\n",
      "| X | O | O |\n",
      "\n",
      "It's a draw! 🤝\n",
      "\n",
      "Scoreboard:\n",
      "You: 0 | AI: 0 | Draws: 1\n"
     ]
    },
    {
     "name": "stdin",
     "output_type": "stream",
     "text": [
      "\n",
      "Do you want to play again? (y/n):  n\n"
     ]
    },
    {
     "name": "stdout",
     "output_type": "stream",
     "text": [
      "\n",
      "Thanks for playing!\n",
      "Final Score:\n",
      "You: 0 | AI: 0 | Draws: 1\n",
      "\n",
      "Welcome to Tic-Tac-Toe AI!\n",
      "1. Play against Minimax AI\n",
      "2. Play against Alpha-Beta Pruning AI\n",
      "3. Compare AI performance\n",
      "4. Exit\n"
     ]
    },
    {
     "name": "stdin",
     "output_type": "stream",
     "text": [
      "Enter your choice:  2\n"
     ]
    },
    {
     "name": "stdout",
     "output_type": "stream",
     "text": [
      "\n",
      "|   |   |   |\n",
      "|   |   |   |\n",
      "|   |   |   |\n",
      "\n"
     ]
    },
    {
     "name": "stdin",
     "output_type": "stream",
     "text": [
      "Enter your move (0-8):  1\n"
     ]
    },
    {
     "name": "stdout",
     "output_type": "stream",
     "text": [
      "\n",
      "|   | O |   |\n",
      "|   |   |   |\n",
      "|   |   |   |\n",
      "\n",
      "AI (alphabeta) is thinking...\n",
      "AI chose move 0 in 0.4473 seconds.\n",
      "\n",
      "| X | O |   |\n",
      "|   |   |   |\n",
      "|   |   |   |\n",
      "\n"
     ]
    },
    {
     "name": "stdin",
     "output_type": "stream",
     "text": [
      "Enter your move (0-8):  8\n"
     ]
    },
    {
     "name": "stdout",
     "output_type": "stream",
     "text": [
      "\n",
      "| X | O |   |\n",
      "|   |   |   |\n",
      "|   |   | O |\n",
      "\n",
      "AI (alphabeta) is thinking...\n",
      "AI chose move 4 in 0.0536 seconds.\n",
      "\n",
      "| X | O |   |\n",
      "|   | X |   |\n",
      "|   |   | O |\n",
      "\n"
     ]
    },
    {
     "name": "stdin",
     "output_type": "stream",
     "text": [
      "Enter your move (0-8):  6\n"
     ]
    },
    {
     "name": "stdout",
     "output_type": "stream",
     "text": [
      "\n",
      "| X | O |   |\n",
      "|   | X |   |\n",
      "| O |   | O |\n",
      "\n",
      "AI (alphabeta) is thinking...\n",
      "AI chose move 7 in 0.002 seconds.\n",
      "\n",
      "| X | O |   |\n",
      "|   | X |   |\n",
      "| O | X | O |\n",
      "\n"
     ]
    },
    {
     "name": "stdin",
     "output_type": "stream",
     "text": [
      "Enter your move (0-8):  2\n"
     ]
    },
    {
     "name": "stdout",
     "output_type": "stream",
     "text": [
      "\n",
      "| X | O | O |\n",
      "|   | X |   |\n",
      "| O | X | O |\n",
      "\n",
      "AI (alphabeta) is thinking...\n",
      "AI chose move 5 in 0.0 seconds.\n",
      "\n",
      "| X | O | O |\n",
      "|   | X | X |\n",
      "| O | X | O |\n",
      "\n"
     ]
    },
    {
     "name": "stdin",
     "output_type": "stream",
     "text": [
      "Enter your move (0-8):  3\n"
     ]
    },
    {
     "name": "stdout",
     "output_type": "stream",
     "text": [
      "\n",
      "| X | O | O |\n",
      "| O | X | X |\n",
      "| O | X | O |\n",
      "\n",
      "It's a draw! 🤝\n",
      "\n",
      "Scoreboard:\n",
      "You: 0 | AI: 0 | Draws: 1\n"
     ]
    },
    {
     "name": "stdin",
     "output_type": "stream",
     "text": [
      "\n",
      "Do you want to play again? (y/n):  y\n"
     ]
    },
    {
     "name": "stdout",
     "output_type": "stream",
     "text": [
      "\n",
      "|   |   |   |\n",
      "|   |   |   |\n",
      "|   |   |   |\n",
      "\n"
     ]
    },
    {
     "name": "stdin",
     "output_type": "stream",
     "text": [
      "Enter your move (0-8):  4\n"
     ]
    },
    {
     "name": "stdout",
     "output_type": "stream",
     "text": [
      "\n",
      "|   |   |   |\n",
      "|   | O |   |\n",
      "|   |   |   |\n",
      "\n",
      "AI (alphabeta) is thinking...\n",
      "AI chose move 0 in 0.3263 seconds.\n",
      "\n",
      "| X |   |   |\n",
      "|   | O |   |\n",
      "|   |   |   |\n",
      "\n"
     ]
    },
    {
     "name": "stdin",
     "output_type": "stream",
     "text": [
      "Enter your move (0-8):  2\n"
     ]
    },
    {
     "name": "stdout",
     "output_type": "stream",
     "text": [
      "\n",
      "| X |   | O |\n",
      "|   | O |   |\n",
      "|   |   |   |\n",
      "\n",
      "AI (alphabeta) is thinking...\n",
      "AI chose move 6 in 0.0264 seconds.\n",
      "\n",
      "| X |   | O |\n",
      "|   | O |   |\n",
      "| X |   |   |\n",
      "\n"
     ]
    },
    {
     "name": "stdin",
     "output_type": "stream",
     "text": [
      "Enter your move (0-8):  3\n"
     ]
    },
    {
     "name": "stdout",
     "output_type": "stream",
     "text": [
      "\n",
      "| X |   | O |\n",
      "| O | O |   |\n",
      "| X |   |   |\n",
      "\n",
      "AI (alphabeta) is thinking...\n",
      "AI chose move 5 in 0.002 seconds.\n",
      "\n",
      "| X |   | O |\n",
      "| O | O | X |\n",
      "| X |   |   |\n",
      "\n"
     ]
    },
    {
     "name": "stdin",
     "output_type": "stream",
     "text": [
      "Enter your move (0-8):  7\n"
     ]
    },
    {
     "name": "stdout",
     "output_type": "stream",
     "text": [
      "\n",
      "| X |   | O |\n",
      "| O | O | X |\n",
      "| X | O |   |\n",
      "\n",
      "AI (alphabeta) is thinking...\n",
      "AI chose move 1 in 0.0 seconds.\n",
      "\n",
      "| X | X | O |\n",
      "| O | O | X |\n",
      "| X | O |   |\n",
      "\n"
     ]
    },
    {
     "name": "stdin",
     "output_type": "stream",
     "text": [
      "Enter your move (0-8):  8\n"
     ]
    },
    {
     "name": "stdout",
     "output_type": "stream",
     "text": [
      "\n",
      "| X | X | O |\n",
      "| O | O | X |\n",
      "| X | O | O |\n",
      "\n",
      "It's a draw! 🤝\n",
      "\n",
      "Scoreboard:\n",
      "You: 0 | AI: 0 | Draws: 2\n"
     ]
    },
    {
     "name": "stdin",
     "output_type": "stream",
     "text": [
      "\n",
      "Do you want to play again? (y/n):  n\n"
     ]
    },
    {
     "name": "stdout",
     "output_type": "stream",
     "text": [
      "\n",
      "Thanks for playing!\n",
      "Final Score:\n",
      "You: 0 | AI: 0 | Draws: 2\n",
      "\n",
      "Welcome to Tic-Tac-Toe AI!\n",
      "1. Play against Minimax AI\n",
      "2. Play against Alpha-Beta Pruning AI\n",
      "3. Compare AI performance\n",
      "4. Exit\n"
     ]
    },
    {
     "name": "stdin",
     "output_type": "stream",
     "text": [
      "Enter your choice:  3\n"
     ]
    },
    {
     "name": "stdout",
     "output_type": "stream",
     "text": [
      "\n",
      "Testing Minimax...\n",
      "Minimax Time: 34.58246 seconds\n",
      "\n",
      "Testing Alpha-Beta Pruning...\n",
      "Alpha-Beta Time: 2.31824 seconds\n",
      "\n",
      "\n",
      "Welcome to Tic-Tac-Toe AI!\n",
      "1. Play against Minimax AI\n",
      "2. Play against Alpha-Beta Pruning AI\n",
      "3. Compare AI performance\n",
      "4. Exit\n"
     ]
    },
    {
     "name": "stdin",
     "output_type": "stream",
     "text": [
      "Enter your choice:  4\n"
     ]
    },
    {
     "name": "stdout",
     "output_type": "stream",
     "text": [
      "Goodbye! 👋\n"
     ]
    }
   ],
   "source": [
    "#### def main_menu():\n",
    "    print(\"\\nWelcome to Tic-Tac-Toe AI!\")\n",
    "    print(\"1. Play against Minimax AI\")\n",
    "    print(\"2. Play against Alpha-Beta Pruning AI\")\n",
    "    print(\"3. Compare AI performance\")\n",
    "    print(\"4. Exit\")\n",
    "\n",
    "    choice = input(\"Enter your choice: \")\n",
    "\n",
    "    if choice == '1':\n",
    "        play_game('minimax')\n",
    "    elif choice == '2':\n",
    "        play_game('alphabeta')\n",
    "    elif choice == '3':\n",
    "        compare_performance()\n",
    "        main_menu()\n",
    "    elif choice == '4':\n",
    "        print(\"Goodbye! 👋\")\n",
    "    else:\n",
    "        print(\"Invalid choice! Try again.\")\n",
    "        main_menu()\n",
    "        \n",
    "if __name__ == \"__main__\":\n",
    "    main_menu()\n"
   ]
  },
  {
   "cell_type": "code",
   "execution_count": null,
   "id": "6f24b8b9-dafa-4a31-9c95-b1463070250f",
   "metadata": {},
   "outputs": [],
   "source": []
  }
 ],
 "metadata": {
  "kernelspec": {
   "display_name": "Python 3 (ipykernel)",
   "language": "python",
   "name": "python3"
  },
  "language_info": {
   "codemirror_mode": {
    "name": "ipython",
    "version": 3
   },
   "file_extension": ".py",
   "mimetype": "text/x-python",
   "name": "python",
   "nbconvert_exporter": "python",
   "pygments_lexer": "ipython3",
   "version": "3.12.7"
  }
 },
 "nbformat": 4,
 "nbformat_minor": 5
}
